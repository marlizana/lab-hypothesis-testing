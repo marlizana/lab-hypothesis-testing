{
 "cells": [
  {
   "cell_type": "markdown",
   "metadata": {},
   "source": [
    "# Before your start:\n",
    "- Read the README.md file\n",
    "- Comment as much as you can and use the resources (README.md file)\n",
    "- Happy learning!"
   ]
  },
  {
   "cell_type": "code",
   "execution_count": 1,
   "metadata": {
    "ExecuteTime": {
     "end_time": "2020-03-18T17:49:12.575856Z",
     "start_time": "2020-03-18T17:49:07.693347Z"
    }
   },
   "outputs": [],
   "source": [
    "# import numpy and pandas\n",
    "import pandas as pd\n",
    "import numpy as np\n",
    "import matplotlib.pyplot as plt\n",
    "import seaborn as sns\n",
    "import scipy.stats as sp\n",
    "from statsmodels.stats.weightstats import ztest, ttest_ind\n",
    "from statsmodels.stats.proportion import proportions_ztest"
   ]
  },
  {
   "cell_type": "markdown",
   "metadata": {},
   "source": [
    "# Challenge 1 - Exploring the Data\n",
    "\n",
    "In this challenge, we will examine all salaries of employees of the City of Chicago. We will start by loading the dataset and examining its contents"
   ]
  },
  {
   "cell_type": "code",
   "execution_count": 2,
   "metadata": {
    "ExecuteTime": {
     "end_time": "2020-03-18T17:49:12.997114Z",
     "start_time": "2020-03-18T17:49:12.823676Z"
    }
   },
   "outputs": [],
   "source": [
    "# Run this code:\n",
    "\n",
    "salaries = pd.read_csv('../../Current_Employee_Names__Salaries__and_Position_Titles.csv')"
   ]
  },
  {
   "cell_type": "markdown",
   "metadata": {},
   "source": [
    "Examine the `salaries` dataset using the `head` function below."
   ]
  },
  {
   "cell_type": "code",
   "execution_count": 3,
   "metadata": {
    "ExecuteTime": {
     "end_time": "2020-03-18T17:49:13.346217Z",
     "start_time": "2020-03-18T17:49:13.233102Z"
    }
   },
   "outputs": [
    {
     "data": {
      "text/html": [
       "<div>\n",
       "<style scoped>\n",
       "    .dataframe tbody tr th:only-of-type {\n",
       "        vertical-align: middle;\n",
       "    }\n",
       "\n",
       "    .dataframe tbody tr th {\n",
       "        vertical-align: top;\n",
       "    }\n",
       "\n",
       "    .dataframe thead th {\n",
       "        text-align: right;\n",
       "    }\n",
       "</style>\n",
       "<table border=\"1\" class=\"dataframe\">\n",
       "  <thead>\n",
       "    <tr style=\"text-align: right;\">\n",
       "      <th></th>\n",
       "      <th>Name</th>\n",
       "      <th>Job Titles</th>\n",
       "      <th>Department</th>\n",
       "      <th>Full or Part-Time</th>\n",
       "      <th>Salary or Hourly</th>\n",
       "      <th>Typical Hours</th>\n",
       "      <th>Annual Salary</th>\n",
       "      <th>Hourly Rate</th>\n",
       "    </tr>\n",
       "  </thead>\n",
       "  <tbody>\n",
       "    <tr>\n",
       "      <td>0</td>\n",
       "      <td>AARON,  JEFFERY M</td>\n",
       "      <td>SERGEANT</td>\n",
       "      <td>POLICE</td>\n",
       "      <td>F</td>\n",
       "      <td>Salary</td>\n",
       "      <td>NaN</td>\n",
       "      <td>101442.0</td>\n",
       "      <td>NaN</td>\n",
       "    </tr>\n",
       "    <tr>\n",
       "      <td>1</td>\n",
       "      <td>AARON,  KARINA</td>\n",
       "      <td>POLICE OFFICER (ASSIGNED AS DETECTIVE)</td>\n",
       "      <td>POLICE</td>\n",
       "      <td>F</td>\n",
       "      <td>Salary</td>\n",
       "      <td>NaN</td>\n",
       "      <td>94122.0</td>\n",
       "      <td>NaN</td>\n",
       "    </tr>\n",
       "    <tr>\n",
       "      <td>2</td>\n",
       "      <td>AARON,  KIMBERLEI R</td>\n",
       "      <td>CHIEF CONTRACT EXPEDITER</td>\n",
       "      <td>GENERAL SERVICES</td>\n",
       "      <td>F</td>\n",
       "      <td>Salary</td>\n",
       "      <td>NaN</td>\n",
       "      <td>101592.0</td>\n",
       "      <td>NaN</td>\n",
       "    </tr>\n",
       "    <tr>\n",
       "      <td>3</td>\n",
       "      <td>ABAD JR,  VICENTE M</td>\n",
       "      <td>CIVIL ENGINEER IV</td>\n",
       "      <td>WATER MGMNT</td>\n",
       "      <td>F</td>\n",
       "      <td>Salary</td>\n",
       "      <td>NaN</td>\n",
       "      <td>110064.0</td>\n",
       "      <td>NaN</td>\n",
       "    </tr>\n",
       "    <tr>\n",
       "      <td>4</td>\n",
       "      <td>ABASCAL,  REECE E</td>\n",
       "      <td>TRAFFIC CONTROL AIDE-HOURLY</td>\n",
       "      <td>OEMC</td>\n",
       "      <td>P</td>\n",
       "      <td>Hourly</td>\n",
       "      <td>20.0</td>\n",
       "      <td>NaN</td>\n",
       "      <td>19.86</td>\n",
       "    </tr>\n",
       "  </tbody>\n",
       "</table>\n",
       "</div>"
      ],
      "text/plain": [
       "                  Name                              Job Titles  \\\n",
       "0    AARON,  JEFFERY M                                SERGEANT   \n",
       "1      AARON,  KARINA   POLICE OFFICER (ASSIGNED AS DETECTIVE)   \n",
       "2  AARON,  KIMBERLEI R                CHIEF CONTRACT EXPEDITER   \n",
       "3  ABAD JR,  VICENTE M                       CIVIL ENGINEER IV   \n",
       "4    ABASCAL,  REECE E             TRAFFIC CONTROL AIDE-HOURLY   \n",
       "\n",
       "         Department Full or Part-Time Salary or Hourly  Typical Hours  \\\n",
       "0            POLICE                 F           Salary            NaN   \n",
       "1            POLICE                 F           Salary            NaN   \n",
       "2  GENERAL SERVICES                 F           Salary            NaN   \n",
       "3       WATER MGMNT                 F           Salary            NaN   \n",
       "4              OEMC                 P           Hourly           20.0   \n",
       "\n",
       "   Annual Salary  Hourly Rate  \n",
       "0       101442.0          NaN  \n",
       "1        94122.0          NaN  \n",
       "2       101592.0          NaN  \n",
       "3       110064.0          NaN  \n",
       "4            NaN        19.86  "
      ]
     },
     "execution_count": 3,
     "metadata": {},
     "output_type": "execute_result"
    }
   ],
   "source": [
    "# Your code here:\n",
    "salaries.head()"
   ]
  },
  {
   "cell_type": "markdown",
   "metadata": {},
   "source": [
    "We see from looking at the `head` function that there is quite a bit of missing data. Let's examine how much missing data is in each column. Produce this output in the cell below"
   ]
  },
  {
   "cell_type": "code",
   "execution_count": 4,
   "metadata": {
    "ExecuteTime": {
     "end_time": "2020-03-18T17:49:13.549825Z",
     "start_time": "2020-03-18T17:49:13.506086Z"
    }
   },
   "outputs": [
    {
     "name": "stdout",
     "output_type": "stream",
     "text": [
      "La columna Name tiene 0.0 % de valores nulos.\n",
      "La columna Job Titles tiene 0.0 % de valores nulos.\n",
      "La columna Department tiene 0.0 % de valores nulos.\n",
      "La columna Full or Part-Time tiene 0.0 % de valores nulos.\n",
      "La columna Salary or Hourly tiene 0.0 % de valores nulos.\n",
      "La columna Typical Hours tiene 75.82 % de valores nulos.\n",
      "La columna Annual Salary tiene 24.18 % de valores nulos.\n",
      "La columna Hourly Rate tiene 75.82 % de valores nulos.\n"
     ]
    }
   ],
   "source": [
    "# Your code here:\n",
    "e=0\n",
    "for i in salaries.isnull().sum():\n",
    "    print ('La columna',salaries.columns[e],'tiene', round(i/len(salaries)*100,2),'% de valores nulos.')\n",
    "    e+=1"
   ]
  },
  {
   "cell_type": "markdown",
   "metadata": {},
   "source": [
    "Let's also look at the count of hourly vs. salaried employees. Write the code in the cell below"
   ]
  },
  {
   "cell_type": "code",
   "execution_count": 5,
   "metadata": {
    "ExecuteTime": {
     "end_time": "2020-03-18T17:49:14.291790Z",
     "start_time": "2020-03-18T17:49:13.760075Z"
    }
   },
   "outputs": [
    {
     "name": "stdout",
     "output_type": "stream",
     "text": [
      "Salary    25161\n",
      "Hourly     8022\n",
      "Name: Salary or Hourly, dtype: int64\n"
     ]
    },
    {
     "data": {
      "image/png": "[encoded data removed]",
      "text/plain": [
       "<Figure size 432x288 with 1 Axes>"
      ]
     },
     "metadata": {
      "needs_background": "light"
     },
     "output_type": "display_data"
    }
   ],
   "source": [
    "# Your code here:\n",
    "print(salaries['Salary or Hourly'].value_counts())\n",
    "_=sns.countplot(salaries['Salary or Hourly'])"
   ]
  },
  {
   "cell_type": "markdown",
   "metadata": {},
   "source": [
    "What this information indicates is that the table contains information about two types of employees - salaried and hourly. Some columns apply only to one type of employee while other columns only apply to another kind. This is why there are so many missing values. Therefore, we will not do anything to handle the missing values."
   ]
  },
  {
   "cell_type": "markdown",
   "metadata": {},
   "source": [
    "There are different departments in the city. List all departments and the count of employees in each department."
   ]
  },
  {
   "cell_type": "code",
   "execution_count": 6,
   "metadata": {
    "ExecuteTime": {
     "end_time": "2020-03-18T17:49:15.295484Z",
     "start_time": "2020-03-18T17:49:14.516628Z"
    }
   },
   "outputs": [
    {
     "name": "stdout",
     "output_type": "stream",
     "text": [
      "POLICE                   13414\n",
      "FIRE                      4641\n",
      "STREETS & SAN             2198\n",
      "OEMC                      2102\n",
      "WATER MGMNT               1879\n",
      "AVIATION                  1629\n",
      "TRANSPORTN                1140\n",
      "PUBLIC LIBRARY            1015\n",
      "GENERAL SERVICES           980\n",
      "FAMILY & SUPPORT           615\n",
      "FINANCE                    560\n",
      "HEALTH                     488\n",
      "CITY COUNCIL               411\n",
      "LAW                        407\n",
      "BUILDINGS                  269\n",
      "COMMUNITY DEVELOPMENT      207\n",
      "BUSINESS AFFAIRS           171\n",
      "COPA                       116\n",
      "BOARD OF ELECTION          107\n",
      "DoIT                        99\n",
      "PROCUREMENT                 92\n",
      "INSPECTOR GEN               87\n",
      "MAYOR'S OFFICE              85\n",
      "CITY CLERK                  84\n",
      "ANIMAL CONTRL               81\n",
      "HUMAN RESOURCES             79\n",
      "CULTURAL AFFAIRS            65\n",
      "BUDGET & MGMT               46\n",
      "ADMIN HEARNG                39\n",
      "DISABILITIES                28\n",
      "TREASURER                   22\n",
      "HUMAN RELATIONS             16\n",
      "BOARD OF ETHICS              8\n",
      "POLICE BOARD                 2\n",
      "LICENSE APPL COMM            1\n",
      "Name: Department, dtype: int64\n"
     ]
    },
    {
     "data": {
      "image/png": "[encoded data removed]",
      "text/plain": [
       "<Figure size 432x288 with 1 Axes>"
      ]
     },
     "metadata": {
      "needs_background": "light"
     },
     "output_type": "display_data"
    }
   ],
   "source": [
    "# Your code here:\n",
    "print(salaries['Department'].value_counts())\n",
    "_=sns.countplot(salaries['Department'])"
   ]
  },
  {
   "cell_type": "markdown",
   "metadata": {},
   "source": [
    "# Challenge 2 - Hypothesis Tests\n",
    "\n",
    "In this section of the lab, we will test whether the hourly wage of all hourly workers is significantly different from $30/hr. Import the correct one sample test function from scipy and perform the hypothesis test for a 95% two sided confidence interval."
   ]
  },
  {
   "cell_type": "code",
   "execution_count": 7,
   "metadata": {
    "ExecuteTime": {
     "end_time": "2020-03-18T17:49:15.554075Z",
     "start_time": "2020-03-18T17:49:15.530813Z"
    }
   },
   "outputs": [
    {
     "data": {
      "text/plain": [
       "\"\\n\\n***************Test de hipótesis****************\\n\\nPlanteamiento:\\n\\nComprobaremos si la media de 30$/hr de los casos \\nen que cobran por hora es significativamente dife-\\nrente.\\n\\nH0 != 30$/h\\nH1 == 30$/h\\n\\nNivel de confianza del 95% que aplicaremos en\\nnuestra función 'hipotesis_result'\\n\\nUsaremos la función 'ztest' de la librería \\nstatsmodels.\\nSe trata de una prueba sobre la media basada en \\nuna distribución normal.\\nUsaremos los siguientes parámetros:\\n\\n* x1 : permite hasta dos muestras independientes,\\nsolo el 1ro es obligatorio.\\n* value : En el caso de una única muestra, será\\nla media de la H0, en el caso de dos,\\nla diferencia según la H0.\\n\\n************************************************\\n\\n\\n\""
      ]
     },
     "execution_count": 7,
     "metadata": {},
     "output_type": "execute_result"
    }
   ],
   "source": [
    "\"\"\"\n",
    "\n",
    "***************Test de hipótesis****************\n",
    "\n",
    "Planteamiento:\n",
    "\n",
    "Comprobaremos si la media de 30$/hr de los casos \n",
    "en que cobran por hora es significativamente dife-\n",
    "rente.\n",
    "\n",
    "H0 != 30$/h\n",
    "H1 == 30$/h\n",
    "\n",
    "Nivel de confianza del 95% que aplicaremos en\n",
    "nuestra función 'hipotesis_result'\n",
    "\n",
    "Usaremos la función 'ztest' de la librería \n",
    "statsmodels.\n",
    "Se trata de una prueba sobre la media basada en \n",
    "una distribución normal.\n",
    "Usaremos los siguientes parámetros:\n",
    "\n",
    "* x1 : permite hasta dos muestras independientes,\n",
    "solo el 1ro es obligatorio.\n",
    "* value : En el caso de una única muestra, será\n",
    "la media de la H0, en el caso de dos,\n",
    "la diferencia según la H0.\n",
    "\n",
    "************************************************\n",
    "\n",
    "\n",
    "\"\"\""
   ]
  },
  {
   "cell_type": "code",
   "execution_count": 8,
   "metadata": {
    "ExecuteTime": {
     "end_time": "2020-03-18T17:49:15.772147Z",
     "start_time": "2020-03-18T17:49:15.750921Z"
    }
   },
   "outputs": [],
   "source": [
    "#Nos quedamos con los datos que nos interesan\n",
    "eur_hour = salaries[salaries['Salary or Hourly']==\"Hourly\"][\"Hourly Rate\"]\n",
    "\n",
    "#Pasamos el ztest con los parámetros que necesitamos\n",
    "r_ztest = ztest(eur_hour, value = 30)"
   ]
  },
  {
   "cell_type": "code",
   "execution_count": 9,
   "metadata": {
    "ExecuteTime": {
     "end_time": "2020-03-18T17:49:15.984015Z",
     "start_time": "2020-03-18T17:49:15.970132Z"
    }
   },
   "outputs": [],
   "source": [
    "#Separamos los resultados para poder usar la función\n",
    "stat = r_ztest[0]\n",
    "pval = r_ztest[1]"
   ]
  },
  {
   "cell_type": "code",
   "execution_count": 10,
   "metadata": {
    "ExecuteTime": {
     "end_time": "2020-03-18T17:49:16.430716Z",
     "start_time": "2020-03-18T17:49:16.392043Z"
    }
   },
   "outputs": [],
   "source": [
    "def hipotesis_result (pval, conf):\n",
    "    \n",
    "    \"\"\"\n",
    "    *************Contraste de hipótesis*************\n",
    "    \n",
    "    Devuelve la decisión de rechazar o no la hipótesis\n",
    "    nula dados el p-valor y el nivel de confianza.\n",
    "    \n",
    "    Input:\n",
    "    * pval(float): P-valor. Probabilidad de que un valor \n",
    "    sea posible dada una hipótesis nula cierta.\n",
    "    * conf(float) : Nivel de confianza deseado.\n",
    "    \n",
    "    Output:\n",
    "    * (str): Si se acepta o rechaza la H0 y los valores\n",
    "    'pval' y 'conf' introducidos.\n",
    "    \n",
    "    ************************************************\n",
    "    \n",
    "    \"\"\"\n",
    "    alpha = 1 - conf\n",
    "    if pval <= alpha:\n",
    "        return f'Se rechaza la hipótesis nula (H0). Nuestro p-valor {pval} es menor a nuestra α {round(alpha,2)}'\n",
    "    else:\n",
    "        return f'No se rechaza la hipótesis nula (H0). Nuestro p-valor {pval} es mayor a nuestra α {round(alpha,2)}'"
   ]
  },
  {
   "cell_type": "code",
   "execution_count": 11,
   "metadata": {
    "ExecuteTime": {
     "end_time": "2020-03-18T17:49:16.788962Z",
     "start_time": "2020-03-18T17:49:16.772562Z"
    }
   },
   "outputs": [
    {
     "data": {
      "text/plain": [
       "'Se rechaza la hipótesis nula (H0). Nuestro p-valor 1.8228873859286195e-94 es menor a nuestra alpha 0.05'"
      ]
     },
     "execution_count": 11,
     "metadata": {},
     "output_type": "execute_result"
    }
   ],
   "source": [
    "#Pasamos la función de resultado\n",
    "hipotesis_result(pval, 0.95)"
   ]
  },
  {
   "cell_type": "markdown",
   "metadata": {},
   "source": [
    "We are also curious about salaries in the police force. The chief of police in Chicago claimed in a press briefing that salaries this year are higher than last year's mean of $86000/year a year for all salaried employees. Test this one sided hypothesis using a 95% confidence interval.\n",
    "\n",
    "Hint: A one tailed test has a p-value that is half of the two tailed p-value. If our hypothesis is greater than, then to reject, the test statistic must also be positive."
   ]
  },
  {
   "cell_type": "code",
   "execution_count": 12,
   "metadata": {
    "ExecuteTime": {
     "end_time": "2020-03-18T17:49:17.044138Z",
     "start_time": "2020-03-18T17:49:17.026075Z"
    }
   },
   "outputs": [
    {
     "data": {
      "text/plain": [
       "\"\\n\\n***************Test de hipótesis****************\\n\\nPlanteamiento:\\n\\nComprobaremos si los salarios de los policias de\\neste año son más altos que la media del año pasado\\n\\nH0 media salarios > 86000$/año\\nH1 media salarios == 86000$/año\\n\\nNivel de confianza del 95% que aplicaremos en\\nnuestra función 'hipotesis_result'\\n\\nUsaremos la función 'ztest' de la librería \\nstatsmodels.\\nSe trata de una prueba sobre la media basada en \\nuna distribución normal.\\nUsaremos los siguientes parámetros:\\n\\n* x1 : permite hasta dos muestras independientes,\\nsolo el 1ro es obligatorio.\\n* value : En el caso de una única muestra, será\\nla media de la H0, en el caso de dos,\\nla diferencia según la H0.\\n\\n************************************************\\n\\n\\n\""
      ]
     },
     "execution_count": 12,
     "metadata": {},
     "output_type": "execute_result"
    }
   ],
   "source": [
    "\"\"\"\n",
    "\n",
    "***************Test de hipótesis****************\n",
    "\n",
    "Planteamiento:\n",
    "\n",
    "Comprobaremos si los salarios de los policias de\n",
    "este año son más altos que la media del año pasado\n",
    "\n",
    "H0 media salarios > 86000$/año\n",
    "H1 media salarios == 86000$/año\n",
    "\n",
    "Nivel de confianza del 95% que aplicaremos en\n",
    "nuestra función 'hipotesis_result'\n",
    "\n",
    "Usaremos la función 'ztest' de la librería \n",
    "statsmodels.\n",
    "Se trata de una prueba sobre la media basada en \n",
    "una distribución normal.\n",
    "Usaremos los siguientes parámetros:\n",
    "\n",
    "* x1 : permite hasta dos muestras independientes,\n",
    "solo el 1ro es obligatorio.\n",
    "* value : En el caso de una única muestra, será\n",
    "la media de la H0, en el caso de dos,\n",
    "la diferencia según la H0.\n",
    "\n",
    "************************************************\n",
    "\n",
    "\n",
    "\"\"\""
   ]
  },
  {
   "cell_type": "code",
   "execution_count": 13,
   "metadata": {
    "ExecuteTime": {
     "end_time": "2020-03-18T17:49:17.368727Z",
     "start_time": "2020-03-18T17:49:17.312026Z"
    }
   },
   "outputs": [
    {
     "name": "stderr",
     "output_type": "stream",
     "text": [
      "/Users/MarLizana/opt/anaconda3/lib/python3.7/site-packages/ipykernel_launcher.py:4: UserWarning: Boolean Series key will be reindexed to match DataFrame index.\n",
      "  after removing the cwd from sys.path.\n"
     ]
    }
   ],
   "source": [
    "# Your code here:\n",
    "\n",
    "#Nos quedamos con los datos que nos interesan\n",
    "eur_year = salaries[salaries['Salary or Hourly']==\"Salary\"][salaries['Department']==\"POLICE\"]['Annual Salary']\n",
    "\n",
    "#Pasamos el ztest con los parámetros que necesitamos\n",
    "r_ztest = ztest(eur_year, value = 86000)"
   ]
  },
  {
   "cell_type": "code",
   "execution_count": 14,
   "metadata": {
    "ExecuteTime": {
     "end_time": "2020-03-18T17:49:17.600951Z",
     "start_time": "2020-03-18T17:49:17.591946Z"
    }
   },
   "outputs": [],
   "source": [
    "#Separamos los resultados para poder usar la función\n",
    "stat = r_ztest[0]\n",
    "pval = r_ztest[1]"
   ]
  },
  {
   "cell_type": "code",
   "execution_count": 15,
   "metadata": {
    "ExecuteTime": {
     "end_time": "2020-03-18T17:49:17.963497Z",
     "start_time": "2020-03-18T17:49:17.934793Z"
    }
   },
   "outputs": [
    {
     "data": {
      "text/plain": [
       "'Se rechaza la hipótesis nula (H0). Nuestro p-valor 0.002056169057509571 es menor a nuestra alpha 0.05'"
      ]
     },
     "execution_count": 15,
     "metadata": {},
     "output_type": "execute_result"
    }
   ],
   "source": [
    "#Pasamos la función de resultado\n",
    "hipotesis_result(pval, 0.95)"
   ]
  },
  {
   "cell_type": "markdown",
   "metadata": {},
   "source": [
    "Using the `crosstab` function, find the department that has the most hourly workers. "
   ]
  },
  {
   "cell_type": "code",
   "execution_count": 16,
   "metadata": {
    "ExecuteTime": {
     "end_time": "2020-03-18T17:49:18.713494Z",
     "start_time": "2020-03-18T17:49:18.552871Z"
    }
   },
   "outputs": [
    {
     "data": {
      "text/html": [
       "<div>\n",
       "<style scoped>\n",
       "    .dataframe tbody tr th:only-of-type {\n",
       "        vertical-align: middle;\n",
       "    }\n",
       "\n",
       "    .dataframe tbody tr th {\n",
       "        vertical-align: top;\n",
       "    }\n",
       "\n",
       "    .dataframe thead th {\n",
       "        text-align: right;\n",
       "    }\n",
       "</style>\n",
       "<table border=\"1\" class=\"dataframe\">\n",
       "  <thead>\n",
       "    <tr style=\"text-align: right;\">\n",
       "      <th>Salary or Hourly</th>\n",
       "      <th>False</th>\n",
       "      <th>True</th>\n",
       "    </tr>\n",
       "    <tr>\n",
       "      <th>Department</th>\n",
       "      <th></th>\n",
       "      <th></th>\n",
       "    </tr>\n",
       "  </thead>\n",
       "  <tbody>\n",
       "    <tr>\n",
       "      <td>STREETS &amp; SAN</td>\n",
       "      <td>336.0</td>\n",
       "      <td>1862.0</td>\n",
       "    </tr>\n",
       "    <tr>\n",
       "      <td>WATER MGMNT</td>\n",
       "      <td>366.0</td>\n",
       "      <td>1513.0</td>\n",
       "    </tr>\n",
       "    <tr>\n",
       "      <td>OEMC</td>\n",
       "      <td>829.0</td>\n",
       "      <td>1273.0</td>\n",
       "    </tr>\n",
       "    <tr>\n",
       "      <td>AVIATION</td>\n",
       "      <td>547.0</td>\n",
       "      <td>1082.0</td>\n",
       "    </tr>\n",
       "    <tr>\n",
       "      <td>GENERAL SERVICES</td>\n",
       "      <td>215.0</td>\n",
       "      <td>765.0</td>\n",
       "    </tr>\n",
       "  </tbody>\n",
       "</table>\n",
       "</div>"
      ],
      "text/plain": [
       "Salary or Hourly  False   True \n",
       "Department                     \n",
       "STREETS & SAN     336.0  1862.0\n",
       "WATER MGMNT       366.0  1513.0\n",
       "OEMC              829.0  1273.0\n",
       "AVIATION          547.0  1082.0\n",
       "GENERAL SERVICES  215.0   765.0"
      ]
     },
     "execution_count": 16,
     "metadata": {},
     "output_type": "execute_result"
    }
   ],
   "source": [
    "# Your code here:\n",
    "deps_hourly_workers = pd.crosstab(salaries['Department'], \n",
    "                                  salaries['Salary or Hourly'] == 'Hourly',\n",
    "                                  values=salaries['Name'], \n",
    "                                  aggfunc = \"count\").sort_values(by = True, \n",
    "                                                                 ascending=False)\n",
    "deps_hourly_workers.head()"
   ]
  },
  {
   "cell_type": "markdown",
   "metadata": {},
   "source": [
    "The workers from the department with the most hourly workers have complained that their hourly wage is less than $35/hour. Using a one sample t-test, test this one-sided hypothesis at the 95% confidence level."
   ]
  },
  {
   "cell_type": "code",
   "execution_count": 17,
   "metadata": {
    "ExecuteTime": {
     "end_time": "2020-03-18T17:49:19.344694Z",
     "start_time": "2020-03-18T17:49:19.331496Z"
    }
   },
   "outputs": [
    {
     "data": {
      "text/plain": [
       "\"\\n\\n***************Test de hipótesis****************\\n\\nPlanteamiento:\\n\\nLos trabajadores del departamento de STREETS & \\nSAN dicen que su salario por hora es inferior a\\n35$\\n\\nH0 salario/hora < 35$\\nH1 salario/hora ≥ 35$\\n\\nNivel de confianza del 95% que aplicaremos en\\nnuestra función 'hipotesis_result'\\n\\nUsaremos la función 'ttest_1samp' de la librería \\nscipy.stats.\\n\\nLa prueba 't de Student' se aplica cuando la pobla-\\nción estudiada sigue una distribución normal pero \\nel tamaño muestral es demasiado pequeño como para \\nque el estadístico en el que está basada la inferen-\\ncia esté normalmente distribuido, utilizándose una \\nestimación de la desviación típica en lugar del \\nvalor real. Es utilizado en análisis discriminante.\\n\\nUsaremos los siguientes parámetros:\\n\\n* a : muestra de la observación\\n* popmean : valor esperado en la H0.\\n\\n************************************************\\n\\n\\n\""
      ]
     },
     "execution_count": 17,
     "metadata": {},
     "output_type": "execute_result"
    }
   ],
   "source": [
    "\"\"\"\n",
    "\n",
    "***************Test de hipótesis****************\n",
    "\n",
    "Planteamiento:\n",
    "\n",
    "Los trabajadores del departamento de STREETS & \n",
    "SAN dicen que su salario por hora es inferior a\n",
    "35$\n",
    "\n",
    "H0 salario/hora < 35$\n",
    "H1 salario/hora ≥ 35$\n",
    "\n",
    "Nivel de confianza del 95% que aplicaremos en\n",
    "nuestra función 'hipotesis_result'\n",
    "\n",
    "Usaremos la función 'ttest_1samp' de la librería \n",
    "scipy.stats.\n",
    "\n",
    "La prueba 't de Student' se aplica cuando la pobla-\n",
    "ción estudiada sigue una distribución normal pero \n",
    "el tamaño muestral es demasiado pequeño como para \n",
    "que el estadístico en el que está basada la inferen-\n",
    "cia esté normalmente distribuido, utilizándose una \n",
    "estimación de la desviación típica en lugar del \n",
    "valor real. Es utilizado en análisis discriminante.\n",
    "\n",
    "Usaremos los siguientes parámetros:\n",
    "\n",
    "* a : muestra de la observación\n",
    "* popmean : valor esperado en la H0.\n",
    "\n",
    "************************************************\n",
    "\n",
    "\n",
    "\"\"\""
   ]
  },
  {
   "cell_type": "code",
   "execution_count": 18,
   "metadata": {
    "ExecuteTime": {
     "end_time": "2020-03-18T17:49:20.463512Z",
     "start_time": "2020-03-18T17:49:20.410789Z"
    }
   },
   "outputs": [
    {
     "name": "stderr",
     "output_type": "stream",
     "text": [
      "/Users/MarLizana/opt/anaconda3/lib/python3.7/site-packages/ipykernel_launcher.py:4: UserWarning: Boolean Series key will be reindexed to match DataFrame index.\n",
      "  after removing the cwd from sys.path.\n"
     ]
    }
   ],
   "source": [
    "# Your code here:\n",
    "\n",
    "#Nos quedamos con los datos que nos interesan\n",
    "streets_san_hour = salaries[salaries['Salary or Hourly']==\"Salary\"][salaries['Department']==\"STREETS & SAN\"]['Annual Salary']\n",
    "\n",
    "#Pasamos el ztest con los parámetros que necesitamos\n",
    "stat, pval = sp.ttest_1samp(streets_san_hour, 35)"
   ]
  },
  {
   "cell_type": "code",
   "execution_count": 19,
   "metadata": {
    "ExecuteTime": {
     "end_time": "2020-03-18T17:49:21.341347Z",
     "start_time": "2020-03-18T17:49:21.331819Z"
    }
   },
   "outputs": [
    {
     "data": {
      "text/plain": [
       "'Se rechaza la hipótesis nula (H0). Nuestro p-valor 4.600753636081316e-205 es menor a nuestra alpha 0.05'"
      ]
     },
     "execution_count": 19,
     "metadata": {},
     "output_type": "execute_result"
    }
   ],
   "source": [
    "hipotesis_result(pval, 0.95)"
   ]
  },
  {
   "cell_type": "markdown",
   "metadata": {},
   "source": [
    "# Challenge 3 - Constructing Confidence Intervals\n",
    "\n",
    "While testing our hypothesis is a great way to gather empirical evidence for accepting or rejecting the hypothesis, another way to gather evidence is by creating a confidence interval. A confidence interval gives us information about the true mean of the population. So for a 95% confidence interval, we are 95% sure that the mean of the population is within the confidence interval. \n",
    ").\n",
    "\n",
    "To read more about confidence intervals, click [here](https://en.wikipedia.org/wiki/Confidence_interval).\n",
    "\n",
    "\n",
    "In the cell below, we will construct a 95% confidence interval for the mean hourly wage of all hourly workers. \n",
    "\n",
    "The confidence interval is computed in SciPy using the `t.interval` function. You can read more about this function [here](https://docs.scipy.org/doc/scipy-0.14.0/reference/generated/scipy.stats.t.html).\n",
    "\n",
    "To compute the confidence interval of the hourly wage, use the 0.95 for the confidence level, number of rows - 1 for degrees of freedom, the mean of the sample for the location parameter and the standard error for the scale. The standard error can be computed using [this](https://docs.scipy.org/doc/scipy/reference/generated/scipy.stats.sem.html) function in SciPy."
   ]
  },
  {
   "cell_type": "code",
   "execution_count": null,
   "metadata": {
    "ExecuteTime": {
     "end_time": "2020-03-18T09:40:00.378219Z",
     "start_time": "2020-03-18T09:40:00.357406Z"
    }
   },
   "outputs": [],
   "source": [
    "\"\"\"\n",
    "\n",
    "************Intervalos de confianza*************\n",
    "\n",
    "Se llama intervalo de confianza a un rango en el\n",
    "que se estima que se encontrará cierto valor des-\n",
    "conocido con un determinado nivel de confianza.\n",
    "\n",
    "Para ello es necesario conocer la distribución\n",
    "teórica que sigue el parámetro a estimar, θ.\n",
    "\n",
    "\n",
    "\n",
    "Nivel de confianza : 95%\n",
    "Alpha : 0.05\n",
    "Grados de libertad : n-1\n",
    "\n",
    "Usaremos la función 't' de la librería Scipy con\n",
    "el método 'interval'. Requiere los siguientes pa-\n",
    "rámetros:\n",
    "\n",
    "* alpha\n",
    "* df\n",
    "* loc = 0\n",
    "* scale = 1\n",
    "\n",
    "************************************************\n",
    "\"\"\""
   ]
  },
  {
   "cell_type": "code",
   "execution_count": null,
   "metadata": {
    "ExecuteTime": {
     "end_time": "2020-03-18T17:39:11.429785Z",
     "start_time": "2020-03-18T17:39:11.138755Z"
    }
   },
   "outputs": [],
   "source": [
    "# Your code here\n",
    "a, b = sp.t.interval(0.05, eur_year)"
   ]
  },
  {
   "cell_type": "markdown",
   "metadata": {},
   "source": [
    "Now construct the 95% confidence interval for all salaried employeed in the police in the cell below."
   ]
  },
  {
   "cell_type": "code",
   "execution_count": null,
   "metadata": {
    "ExecuteTime": {
     "end_time": "2020-03-18T17:44:50.768622Z",
     "start_time": "2020-03-18T17:44:50.673308Z"
    }
   },
   "outputs": [],
   "source": [
    "# Your code here:"
   ]
  },
  {
   "cell_type": "code",
   "execution_count": null,
   "metadata": {
    "ExecuteTime": {
     "end_time": "2020-03-18T17:48:15.781230Z",
     "start_time": "2020-03-18T17:48:15.749654Z"
    }
   },
   "outputs": [],
   "source": []
  },
  {
   "cell_type": "markdown",
   "metadata": {},
   "source": [
    "# Challenge 4 - Hypothesis Tests of Proportions\n",
    "\n",
    "Another type of one sample test is a hypothesis test of proportions. In this test, we examine whether the proportion of a group in our sample is significantly different than a fraction. \n",
    "\n",
    "You can read more about one sample proportion tests [here](http://sphweb.bumc.bu.edu/otlt/MPH-Modules/BS/SAS/SAS6-CategoricalData/SAS6-CategoricalData2.html).\n",
    "\n",
    "In the cell below, use the `proportions_ztest` function from `statsmodels` to perform a hypothesis test that will determine whether the number of hourly workers in the City of Chicago is significantly different from 25% at the 95% confidence level."
   ]
  },
  {
   "cell_type": "code",
   "execution_count": null,
   "metadata": {},
   "outputs": [],
   "source": [
    "\"\"\"\n",
    "\n",
    "************* Test de proporciones *************\n",
    "\n",
    "Contrastar un valor postulado para la proporción\n",
    "de individuos de una població que verifican deter-\n",
    "minada característica A. Tomar una muestra de ta-\n",
    "maño n equivale a evaluar sobre cada una de las\n",
    "n unidades muestrales el cumplimiendo o no de A.\n",
    "\n",
    "Planteamiento:\n",
    "\n",
    "El número de trabajadores por hora en la ciudad \n",
    "de Chicago es\n",
    "\n",
    "H0: ==25%\n",
    "H1: !=25%\n",
    "\n",
    "Nivel de confianza del 95% que aplicaremos en\n",
    "nuestra función 'hipotesis_result'\n",
    "\n",
    "Usaremos la función 'proportions_ztest' de la \n",
    "librería statsmodels.\n",
    "Se trata de una prueba sobre la media basada en \n",
    "una distribución normal.\n",
    "Usaremos los siguientes parámetros:\n",
    "\n",
    "* x1 : permite hasta dos muestras independientes,\n",
    "solo el 1ro es obligatorio.\n",
    "* value : En el caso de una única muestra, será\n",
    "la media de la H0, en el caso de dos,\n",
    "la diferencia según la H0.\n",
    "\n",
    "************************************************\n",
    "\n",
    "\"\"\""
   ]
  },
  {
   "cell_type": "code",
   "execution_count": 20,
   "metadata": {
    "ExecuteTime": {
     "end_time": "2020-03-18T17:49:28.984209Z",
     "start_time": "2020-03-18T17:49:28.935270Z"
    }
   },
   "outputs": [],
   "source": [
    "# Your code here:\n",
    "\n",
    "#Número de trabajadores por hora\n",
    "num_hourly = salaries['Salary or Hourly'].value_counts()[1]\n",
    "\n",
    "#Número totalde trabajadores\n",
    "num_total = len(salaries['Salary or Hourly'])\n",
    "\n",
    "#Valor para la hipótesis\n",
    "value = 0.25\n",
    "\n",
    "#Nivel de confianza\n",
    "conf = 0.95\n",
    "\n",
    "#Estadístico y p-valor del Z-Test\n",
    "stat, pval = proportions_ztest(count=num_hourly, \n",
    "                               nobs=num_total, \n",
    "                               value=value)"
   ]
  },
  {
   "cell_type": "code",
   "execution_count": 21,
   "metadata": {
    "ExecuteTime": {
     "end_time": "2020-03-18T17:49:29.785686Z",
     "start_time": "2020-03-18T17:49:29.770018Z"
    }
   },
   "outputs": [
    {
     "data": {
      "text/plain": [
       "'Se rechaza la hipótesis nula (H0). Nuestro p-valor 0.0004481127249057967 es menor a nuestra alpha 0.05'"
      ]
     },
     "execution_count": 21,
     "metadata": {},
     "output_type": "execute_result"
    }
   ],
   "source": [
    "hipotesis_result(pval, conf)"
   ]
  },
  {
   "cell_type": "code",
   "execution_count": null,
   "metadata": {},
   "outputs": [],
   "source": []
  }
 ],
 "metadata": {
  "kernelspec": {
   "display_name": "Python 3",
   "language": "python",
   "name": "python3"
  },
  "language_info": {
   "codemirror_mode": {
    "name": "ipython",
    "version": 3
   },
   "file_extension": ".py",
   "mimetype": "text/x-python",
   "name": "python",
   "nbconvert_exporter": "python",
   "pygments_lexer": "ipython3",
   "version": "3.7.4"
  },
  "toc": {
   "base_numbering": 1,
   "nav_menu": {},
   "number_sections": true,
   "sideBar": true,
   "skip_h1_title": false,
   "title_cell": "Table of Contents",
   "title_sidebar": "Contents",
   "toc_cell": false,
   "toc_position": {},
   "toc_section_display": true,
   "toc_window_display": false
  },
  "varInspector": {
   "cols": {
    "lenName": 16,
    "lenType": 16,
    "lenVar": 40
   },
   "kernels_config": {
    "python": {
     "delete_cmd_postfix": "",
     "delete_cmd_prefix": "del ",
     "library": "var_list.py",
     "varRefreshCmd": "print(var_dic_list())"
    },
    "r": {
     "delete_cmd_postfix": ") ",
     "delete_cmd_prefix": "rm(",
     "library": "var_list.r",
     "varRefreshCmd": "cat(var_dic_list()) "
    }
   },
   "types_to_exclude": [
    "module",
    "function",
    "builtin_function_or_method",
    "instance",
    "_Feature"
   ],
   "window_display": false
  }
 },
 "nbformat": 4,
 "nbformat_minor": 2
}
